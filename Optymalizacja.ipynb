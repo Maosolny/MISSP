{
  "nbformat": 4,
  "nbformat_minor": 0,
  "metadata": {
    "colab": {
      "name": "Optymalizacja.ipynb",
      "provenance": [],
      "collapsed_sections": []
    },
    "kernelspec": {
      "name": "python3",
      "display_name": "Python 3"
    },
    "widgets": {
      "application/vnd.jupyter.widget-state+json": {
        "6111c0e880e444c28b1315e27143cb9b": {
          "model_module": "@jupyter-widgets/controls",
          "model_name": "VBoxModel",
          "state": {
            "_view_name": "VBoxView",
            "_dom_classes": [
              "widget-interact"
            ],
            "_model_name": "VBoxModel",
            "_view_module": "@jupyter-widgets/controls",
            "_model_module_version": "1.5.0",
            "_view_count": null,
            "_view_module_version": "1.5.0",
            "box_style": "",
            "layout": "IPY_MODEL_7e1499ae9563401bb2e35ab5969b6645",
            "_model_module": "@jupyter-widgets/controls",
            "children": [
              "IPY_MODEL_f9ee20c25b124908a877e256995ee413",
              "IPY_MODEL_7206c9eee3624a569f7b5b59151039f9",
              "IPY_MODEL_113864f0169741e8abe630720b891ed3",
              "IPY_MODEL_9e47722e9b254e0fa35c5f07e7d1b47f",
              "IPY_MODEL_89a386ace6884c83bc33e6137197690e",
              "IPY_MODEL_c456cb7b36a648b4a0ae0ba4a2510f85",
              "IPY_MODEL_b7654b94cd294e33b2506159b8cc7284",
              "IPY_MODEL_6144961781a84e4f9eac5f09d54b514b",
              "IPY_MODEL_a5ddeb9466b04460a2d90b25cbeadf0b",
              "IPY_MODEL_4bbc9af774f24021a30feeac0261658d",
              "IPY_MODEL_33c062c19ba64e3abdff5499809f18b0",
              "IPY_MODEL_0234ecca5ac94217a7d51cfd47c9f340"
            ]
          }
        },
        "7e1499ae9563401bb2e35ab5969b6645": {
          "model_module": "@jupyter-widgets/base",
          "model_name": "LayoutModel",
          "state": {
            "_view_name": "LayoutView",
            "grid_template_rows": null,
            "right": null,
            "justify_content": null,
            "_view_module": "@jupyter-widgets/base",
            "overflow": null,
            "_model_module_version": "1.2.0",
            "_view_count": null,
            "flex_flow": null,
            "width": null,
            "min_width": null,
            "border": null,
            "align_items": null,
            "bottom": null,
            "_model_module": "@jupyter-widgets/base",
            "top": null,
            "grid_column": null,
            "overflow_y": null,
            "overflow_x": null,
            "grid_auto_flow": null,
            "grid_area": null,
            "grid_template_columns": null,
            "flex": null,
            "_model_name": "LayoutModel",
            "justify_items": null,
            "grid_row": null,
            "max_height": null,
            "align_content": null,
            "visibility": null,
            "align_self": null,
            "height": null,
            "min_height": null,
            "padding": null,
            "grid_auto_rows": null,
            "grid_gap": null,
            "max_width": null,
            "order": null,
            "_view_module_version": "1.2.0",
            "grid_template_areas": null,
            "object_position": null,
            "object_fit": null,
            "grid_auto_columns": null,
            "margin": null,
            "display": null,
            "left": null
          }
        },
        "f9ee20c25b124908a877e256995ee413": {
          "model_module": "@jupyter-widgets/controls",
          "model_name": "FloatSliderModel",
          "state": {
            "_view_name": "FloatSliderView",
            "style": "IPY_MODEL_6ca001e2b2654fb084e6ae04c2d111db",
            "_dom_classes": [],
            "description": "Zysk z okien aluminiowych",
            "step": 100,
            "_model_name": "FloatSliderModel",
            "orientation": "horizontal",
            "max": 10000,
            "_view_module": "@jupyter-widgets/controls",
            "_model_module_version": "1.5.0",
            "value": 3000,
            "_view_count": null,
            "disabled": false,
            "_view_module_version": "1.5.0",
            "min": 500,
            "continuous_update": true,
            "readout_format": ".2f",
            "description_tooltip": null,
            "readout": true,
            "_model_module": "@jupyter-widgets/controls",
            "layout": "IPY_MODEL_2061f266fc804e97829be154dfacabd6"
          }
        },
        "7206c9eee3624a569f7b5b59151039f9": {
          "model_module": "@jupyter-widgets/controls",
          "model_name": "FloatSliderModel",
          "state": {
            "_view_name": "FloatSliderView",
            "style": "IPY_MODEL_cd6150c718484d22a08313f3307b14a1",
            "_dom_classes": [],
            "description": "Zysk z okien drewnianych",
            "step": 100,
            "_model_name": "FloatSliderModel",
            "orientation": "horizontal",
            "max": 10000,
            "_view_module": "@jupyter-widgets/controls",
            "_model_module_version": "1.5.0",
            "value": 5000,
            "_view_count": null,
            "disabled": false,
            "_view_module_version": "1.5.0",
            "min": 500,
            "continuous_update": true,
            "readout_format": ".2f",
            "description_tooltip": null,
            "readout": true,
            "_model_module": "@jupyter-widgets/controls",
            "layout": "IPY_MODEL_2061f266fc804e97829be154dfacabd6"
          }
        },
        "113864f0169741e8abe630720b891ed3": {
          "model_module": "@jupyter-widgets/controls",
          "model_name": "IntSliderModel",
          "state": {
            "_view_name": "IntSliderView",
            "style": "IPY_MODEL_8db85a9a55ce472498cb599106f0e353",
            "_dom_classes": [],
            "description": "Godz. prod. okien alu. w F1",
            "step": 1,
            "_model_name": "IntSliderModel",
            "orientation": "horizontal",
            "max": 10,
            "_view_module": "@jupyter-widgets/controls",
            "_model_module_version": "1.5.0",
            "value": 1,
            "_view_count": null,
            "disabled": false,
            "_view_module_version": "1.5.0",
            "min": 0,
            "continuous_update": true,
            "readout_format": "d",
            "description_tooltip": null,
            "readout": true,
            "_model_module": "@jupyter-widgets/controls",
            "layout": "IPY_MODEL_2061f266fc804e97829be154dfacabd6"
          }
        },
        "9e47722e9b254e0fa35c5f07e7d1b47f": {
          "model_module": "@jupyter-widgets/controls",
          "model_name": "IntSliderModel",
          "state": {
            "_view_name": "IntSliderView",
            "style": "IPY_MODEL_a33db0cf0e824ad597db496080d43f29",
            "_dom_classes": [],
            "description": "Godz. prod. okien alu. w F2",
            "step": 1,
            "_model_name": "IntSliderModel",
            "orientation": "horizontal",
            "max": 10,
            "_view_module": "@jupyter-widgets/controls",
            "_model_module_version": "1.5.0",
            "value": 0,
            "_view_count": null,
            "disabled": false,
            "_view_module_version": "1.5.0",
            "min": 0,
            "continuous_update": true,
            "readout_format": "d",
            "description_tooltip": null,
            "readout": true,
            "_model_module": "@jupyter-widgets/controls",
            "layout": "IPY_MODEL_2061f266fc804e97829be154dfacabd6"
          }
        },
        "89a386ace6884c83bc33e6137197690e": {
          "model_module": "@jupyter-widgets/controls",
          "model_name": "IntSliderModel",
          "state": {
            "_view_name": "IntSliderView",
            "style": "IPY_MODEL_4eae656e5a9749aea8fa06d6a276be34",
            "_dom_classes": [],
            "description": "Godz. prod. okien alu. w F3",
            "step": 1,
            "_model_name": "IntSliderModel",
            "orientation": "horizontal",
            "max": 10,
            "_view_module": "@jupyter-widgets/controls",
            "_model_module_version": "1.5.0",
            "value": 3,
            "_view_count": null,
            "disabled": false,
            "_view_module_version": "1.5.0",
            "min": 0,
            "continuous_update": true,
            "readout_format": "d",
            "description_tooltip": null,
            "readout": true,
            "_model_module": "@jupyter-widgets/controls",
            "layout": "IPY_MODEL_2061f266fc804e97829be154dfacabd6"
          }
        },
        "c456cb7b36a648b4a0ae0ba4a2510f85": {
          "model_module": "@jupyter-widgets/controls",
          "model_name": "IntSliderModel",
          "state": {
            "_view_name": "IntSliderView",
            "style": "IPY_MODEL_cec7d20690f4412687d99d6bba8ef75c",
            "_dom_classes": [],
            "description": "Godz. prod. okien drew. w F1",
            "step": 1,
            "_model_name": "IntSliderModel",
            "orientation": "horizontal",
            "max": 10,
            "_view_module": "@jupyter-widgets/controls",
            "_model_module_version": "1.5.0",
            "value": 0,
            "_view_count": null,
            "disabled": false,
            "_view_module_version": "1.5.0",
            "min": 0,
            "continuous_update": true,
            "readout_format": "d",
            "description_tooltip": null,
            "readout": true,
            "_model_module": "@jupyter-widgets/controls",
            "layout": "IPY_MODEL_2061f266fc804e97829be154dfacabd6"
          }
        },
        "b7654b94cd294e33b2506159b8cc7284": {
          "model_module": "@jupyter-widgets/controls",
          "model_name": "IntSliderModel",
          "state": {
            "_view_name": "IntSliderView",
            "style": "IPY_MODEL_44178f30bc6a4a9aa322ce84cf3bb1c9",
            "_dom_classes": [],
            "description": "Godz. prod. okien drew. w F2",
            "step": 1,
            "_model_name": "IntSliderModel",
            "orientation": "horizontal",
            "max": 10,
            "_view_module": "@jupyter-widgets/controls",
            "_model_module_version": "1.5.0",
            "value": 2,
            "_view_count": null,
            "disabled": false,
            "_view_module_version": "1.5.0",
            "min": 0,
            "continuous_update": true,
            "readout_format": "d",
            "description_tooltip": null,
            "readout": true,
            "_model_module": "@jupyter-widgets/controls",
            "layout": "IPY_MODEL_2061f266fc804e97829be154dfacabd6"
          }
        },
        "6144961781a84e4f9eac5f09d54b514b": {
          "model_module": "@jupyter-widgets/controls",
          "model_name": "IntSliderModel",
          "state": {
            "_view_name": "IntSliderView",
            "style": "IPY_MODEL_f1f38d35b8dd4612a2d64941354f6ce7",
            "_dom_classes": [],
            "description": "Godz. prod. okien drew. w F3",
            "step": 1,
            "_model_name": "IntSliderModel",
            "orientation": "horizontal",
            "max": 10,
            "_view_module": "@jupyter-widgets/controls",
            "_model_module_version": "1.5.0",
            "value": 2,
            "_view_count": null,
            "disabled": false,
            "_view_module_version": "1.5.0",
            "min": 0,
            "continuous_update": true,
            "readout_format": "d",
            "description_tooltip": null,
            "readout": true,
            "_model_module": "@jupyter-widgets/controls",
            "layout": "IPY_MODEL_2061f266fc804e97829be154dfacabd6"
          }
        },
        "a5ddeb9466b04460a2d90b25cbeadf0b": {
          "model_module": "@jupyter-widgets/controls",
          "model_name": "IntSliderModel",
          "state": {
            "_view_name": "IntSliderView",
            "style": "IPY_MODEL_f0acc6be972749798cb2f26a81f8758a",
            "_dom_classes": [],
            "description": "Maksymalna ilość godzin w F1",
            "step": 1,
            "_model_name": "IntSliderModel",
            "orientation": "horizontal",
            "max": 50,
            "_view_module": "@jupyter-widgets/controls",
            "_model_module_version": "1.5.0",
            "value": 4,
            "_view_count": null,
            "disabled": false,
            "_view_module_version": "1.5.0",
            "min": 0,
            "continuous_update": true,
            "readout_format": "d",
            "description_tooltip": null,
            "readout": true,
            "_model_module": "@jupyter-widgets/controls",
            "layout": "IPY_MODEL_2061f266fc804e97829be154dfacabd6"
          }
        },
        "4bbc9af774f24021a30feeac0261658d": {
          "model_module": "@jupyter-widgets/controls",
          "model_name": "IntSliderModel",
          "state": {
            "_view_name": "IntSliderView",
            "style": "IPY_MODEL_cd883cb533c14f969bb1a5c93b3f4601",
            "_dom_classes": [],
            "description": "Maksymalna ilość godzin w F2",
            "step": 1,
            "_model_name": "IntSliderModel",
            "orientation": "horizontal",
            "max": 50,
            "_view_module": "@jupyter-widgets/controls",
            "_model_module_version": "1.5.0",
            "value": 12,
            "_view_count": null,
            "disabled": false,
            "_view_module_version": "1.5.0",
            "min": 0,
            "continuous_update": true,
            "readout_format": "d",
            "description_tooltip": null,
            "readout": true,
            "_model_module": "@jupyter-widgets/controls",
            "layout": "IPY_MODEL_2061f266fc804e97829be154dfacabd6"
          }
        },
        "33c062c19ba64e3abdff5499809f18b0": {
          "model_module": "@jupyter-widgets/controls",
          "model_name": "IntSliderModel",
          "state": {
            "_view_name": "IntSliderView",
            "style": "IPY_MODEL_b66b45a838b747348d9b416841da23c8",
            "_dom_classes": [],
            "description": "Maksymalna ilość godzin w F3",
            "step": 1,
            "_model_name": "IntSliderModel",
            "orientation": "horizontal",
            "max": 50,
            "_view_module": "@jupyter-widgets/controls",
            "_model_module_version": "1.5.0",
            "value": 18,
            "_view_count": null,
            "disabled": false,
            "_view_module_version": "1.5.0",
            "min": 0,
            "continuous_update": true,
            "readout_format": "d",
            "description_tooltip": null,
            "readout": true,
            "_model_module": "@jupyter-widgets/controls",
            "layout": "IPY_MODEL_2061f266fc804e97829be154dfacabd6"
          }
        },
        "0234ecca5ac94217a7d51cfd47c9f340": {
          "model_module": "@jupyter-widgets/output",
          "model_name": "OutputModel",
          "state": {
            "_view_name": "OutputView",
            "msg_id": "",
            "_dom_classes": [],
            "_model_name": "OutputModel",
            "outputs": [
              {
                "output_type": "stream",
                "metadata": {
                  "tags": []
                },
                "text": "\nStatus: Optimal\nKońcowy zysk 36000.0$, okna: {'Ilość_Aluminiowych': '2.0', 'Ilość_Drewnianych': '6.0'}\n\n********************Shadow Prices********************\n            NAME                shadow price      slack\n0  Maks_godziny_w_tyg_w_F1              -0.0        2.0\n1  Maks_godziny_w_tyg_w_F2              -0.0       -0.0\n2  Maks_godziny_w_tyg_w_F3              -0.0       -0.0\n******************************\n",
                "stream": "stdout"
              }
            ],
            "_view_module": "@jupyter-widgets/output",
            "_model_module_version": "1.0.0",
            "_view_count": null,
            "_view_module_version": "1.0.0",
            "layout": "IPY_MODEL_67e1de95bec347bd80cf420bbd54472f",
            "_model_module": "@jupyter-widgets/output"
          }
        },
        "6ca001e2b2654fb084e6ae04c2d111db": {
          "model_module": "@jupyter-widgets/controls",
          "model_name": "SliderStyleModel",
          "state": {
            "_view_name": "StyleView",
            "handle_color": null,
            "_model_name": "SliderStyleModel",
            "description_width": "200px",
            "_view_module": "@jupyter-widgets/base",
            "_model_module_version": "1.5.0",
            "_view_count": null,
            "_view_module_version": "1.2.0",
            "_model_module": "@jupyter-widgets/controls"
          }
        },
        "2061f266fc804e97829be154dfacabd6": {
          "model_module": "@jupyter-widgets/base",
          "model_name": "LayoutModel",
          "state": {
            "_view_name": "LayoutView",
            "grid_template_rows": null,
            "right": null,
            "justify_content": null,
            "_view_module": "@jupyter-widgets/base",
            "overflow": null,
            "_model_module_version": "1.2.0",
            "_view_count": null,
            "flex_flow": null,
            "width": "50%",
            "min_width": null,
            "border": null,
            "align_items": null,
            "bottom": null,
            "_model_module": "@jupyter-widgets/base",
            "top": null,
            "grid_column": null,
            "overflow_y": null,
            "overflow_x": null,
            "grid_auto_flow": null,
            "grid_area": null,
            "grid_template_columns": null,
            "flex": null,
            "_model_name": "LayoutModel",
            "justify_items": null,
            "grid_row": null,
            "max_height": null,
            "align_content": null,
            "visibility": null,
            "align_self": null,
            "height": "auto",
            "min_height": null,
            "padding": null,
            "grid_auto_rows": null,
            "grid_gap": "50px",
            "max_width": null,
            "order": null,
            "_view_module_version": "1.2.0",
            "grid_template_areas": null,
            "object_position": null,
            "object_fit": null,
            "grid_auto_columns": null,
            "margin": null,
            "display": null,
            "left": null
          }
        },
        "cd6150c718484d22a08313f3307b14a1": {
          "model_module": "@jupyter-widgets/controls",
          "model_name": "SliderStyleModel",
          "state": {
            "_view_name": "StyleView",
            "handle_color": null,
            "_model_name": "SliderStyleModel",
            "description_width": "200px",
            "_view_module": "@jupyter-widgets/base",
            "_model_module_version": "1.5.0",
            "_view_count": null,
            "_view_module_version": "1.2.0",
            "_model_module": "@jupyter-widgets/controls"
          }
        },
        "8db85a9a55ce472498cb599106f0e353": {
          "model_module": "@jupyter-widgets/controls",
          "model_name": "SliderStyleModel",
          "state": {
            "_view_name": "StyleView",
            "handle_color": null,
            "_model_name": "SliderStyleModel",
            "description_width": "200px",
            "_view_module": "@jupyter-widgets/base",
            "_model_module_version": "1.5.0",
            "_view_count": null,
            "_view_module_version": "1.2.0",
            "_model_module": "@jupyter-widgets/controls"
          }
        },
        "a33db0cf0e824ad597db496080d43f29": {
          "model_module": "@jupyter-widgets/controls",
          "model_name": "SliderStyleModel",
          "state": {
            "_view_name": "StyleView",
            "handle_color": null,
            "_model_name": "SliderStyleModel",
            "description_width": "200px",
            "_view_module": "@jupyter-widgets/base",
            "_model_module_version": "1.5.0",
            "_view_count": null,
            "_view_module_version": "1.2.0",
            "_model_module": "@jupyter-widgets/controls"
          }
        },
        "4eae656e5a9749aea8fa06d6a276be34": {
          "model_module": "@jupyter-widgets/controls",
          "model_name": "SliderStyleModel",
          "state": {
            "_view_name": "StyleView",
            "handle_color": null,
            "_model_name": "SliderStyleModel",
            "description_width": "200px",
            "_view_module": "@jupyter-widgets/base",
            "_model_module_version": "1.5.0",
            "_view_count": null,
            "_view_module_version": "1.2.0",
            "_model_module": "@jupyter-widgets/controls"
          }
        },
        "cec7d20690f4412687d99d6bba8ef75c": {
          "model_module": "@jupyter-widgets/controls",
          "model_name": "SliderStyleModel",
          "state": {
            "_view_name": "StyleView",
            "handle_color": null,
            "_model_name": "SliderStyleModel",
            "description_width": "200px",
            "_view_module": "@jupyter-widgets/base",
            "_model_module_version": "1.5.0",
            "_view_count": null,
            "_view_module_version": "1.2.0",
            "_model_module": "@jupyter-widgets/controls"
          }
        },
        "44178f30bc6a4a9aa322ce84cf3bb1c9": {
          "model_module": "@jupyter-widgets/controls",
          "model_name": "SliderStyleModel",
          "state": {
            "_view_name": "StyleView",
            "handle_color": null,
            "_model_name": "SliderStyleModel",
            "description_width": "200px",
            "_view_module": "@jupyter-widgets/base",
            "_model_module_version": "1.5.0",
            "_view_count": null,
            "_view_module_version": "1.2.0",
            "_model_module": "@jupyter-widgets/controls"
          }
        },
        "f1f38d35b8dd4612a2d64941354f6ce7": {
          "model_module": "@jupyter-widgets/controls",
          "model_name": "SliderStyleModel",
          "state": {
            "_view_name": "StyleView",
            "handle_color": null,
            "_model_name": "SliderStyleModel",
            "description_width": "200px",
            "_view_module": "@jupyter-widgets/base",
            "_model_module_version": "1.5.0",
            "_view_count": null,
            "_view_module_version": "1.2.0",
            "_model_module": "@jupyter-widgets/controls"
          }
        },
        "f0acc6be972749798cb2f26a81f8758a": {
          "model_module": "@jupyter-widgets/controls",
          "model_name": "SliderStyleModel",
          "state": {
            "_view_name": "StyleView",
            "handle_color": null,
            "_model_name": "SliderStyleModel",
            "description_width": "200px",
            "_view_module": "@jupyter-widgets/base",
            "_model_module_version": "1.5.0",
            "_view_count": null,
            "_view_module_version": "1.2.0",
            "_model_module": "@jupyter-widgets/controls"
          }
        },
        "cd883cb533c14f969bb1a5c93b3f4601": {
          "model_module": "@jupyter-widgets/controls",
          "model_name": "SliderStyleModel",
          "state": {
            "_view_name": "StyleView",
            "handle_color": null,
            "_model_name": "SliderStyleModel",
            "description_width": "200px",
            "_view_module": "@jupyter-widgets/base",
            "_model_module_version": "1.5.0",
            "_view_count": null,
            "_view_module_version": "1.2.0",
            "_model_module": "@jupyter-widgets/controls"
          }
        },
        "b66b45a838b747348d9b416841da23c8": {
          "model_module": "@jupyter-widgets/controls",
          "model_name": "SliderStyleModel",
          "state": {
            "_view_name": "StyleView",
            "handle_color": null,
            "_model_name": "SliderStyleModel",
            "description_width": "200px",
            "_view_module": "@jupyter-widgets/base",
            "_model_module_version": "1.5.0",
            "_view_count": null,
            "_view_module_version": "1.2.0",
            "_model_module": "@jupyter-widgets/controls"
          }
        },
        "67e1de95bec347bd80cf420bbd54472f": {
          "model_module": "@jupyter-widgets/base",
          "model_name": "LayoutModel",
          "state": {
            "_view_name": "LayoutView",
            "grid_template_rows": null,
            "right": null,
            "justify_content": null,
            "_view_module": "@jupyter-widgets/base",
            "overflow": null,
            "_model_module_version": "1.2.0",
            "_view_count": null,
            "flex_flow": null,
            "width": null,
            "min_width": null,
            "border": null,
            "align_items": null,
            "bottom": null,
            "_model_module": "@jupyter-widgets/base",
            "top": null,
            "grid_column": null,
            "overflow_y": null,
            "overflow_x": null,
            "grid_auto_flow": null,
            "grid_area": null,
            "grid_template_columns": null,
            "flex": null,
            "_model_name": "LayoutModel",
            "justify_items": null,
            "grid_row": null,
            "max_height": null,
            "align_content": null,
            "visibility": null,
            "align_self": null,
            "height": null,
            "min_height": null,
            "padding": null,
            "grid_auto_rows": null,
            "grid_gap": null,
            "max_width": null,
            "order": null,
            "_view_module_version": "1.2.0",
            "grid_template_areas": null,
            "object_position": null,
            "object_fit": null,
            "grid_auto_columns": null,
            "margin": null,
            "display": null,
            "left": null
          }
        }
      }
    }
  },
  "cells": [
    {
      "cell_type": "code",
      "metadata": {
        "id": "-jtvy9X5DZKZ",
        "colab": {
          "base_uri": "https://localhost:8080/"
        },
        "outputId": "ff4122ae-fff3-46e5-ae62-a935907d1261"
      },
      "source": [
        "!pip install pulp\n",
        "\n",
        "!sudo apt-get install coinor-cbc glpk-utils coinor-clp"
      ],
      "execution_count": null,
      "outputs": [
        {
          "output_type": "stream",
          "text": [
            "Collecting pulp\n",
            "\u001b[?25l  Downloading https://files.pythonhosted.org/packages/89/0c/6d80f5f81a92d1733cc5ca180491b8a3cd5839e335627a0046c81b7d3d3d/PuLP-2.3.1-py3-none-any.whl (40.6MB)\n",
            "\u001b[K     |████████████████████████████████| 40.6MB 105kB/s \n",
            "\u001b[?25hCollecting amply>=0.1.2\n",
            "  Downloading https://files.pythonhosted.org/packages/f3/c5/dfa09dd2595a2ab2ab4e6fa7bebef9565812722e1980d04b0edce5032066/amply-0.1.4-py3-none-any.whl\n",
            "Requirement already satisfied: pyparsing in /usr/local/lib/python3.6/dist-packages (from amply>=0.1.2->pulp) (2.4.7)\n",
            "Requirement already satisfied: docutils>=0.3 in /usr/local/lib/python3.6/dist-packages (from amply>=0.1.2->pulp) (0.16)\n",
            "Installing collected packages: amply, pulp\n",
            "Successfully installed amply-0.1.4 pulp-2.3.1\n",
            "Reading package lists... Done\n",
            "Building dependency tree       \n",
            "Reading state information... Done\n",
            "The following additional packages will be installed:\n",
            "  coinor-libcbc3 coinor-libcgl1 coinor-libclp1 coinor-libcoinutils3v5\n",
            "  coinor-libosi1v5 libamd2 libcolamd2 libglpk40 libsuitesparseconfig5\n",
            "Suggested packages:\n",
            "  libiodbc2-dev default-libmysqlclient-dev\n",
            "The following NEW packages will be installed:\n",
            "  coinor-cbc coinor-clp coinor-libcbc3 coinor-libcgl1 coinor-libclp1\n",
            "  coinor-libcoinutils3v5 coinor-libosi1v5 glpk-utils libamd2 libcolamd2\n",
            "  libglpk40 libsuitesparseconfig5\n",
            "0 upgraded, 12 newly installed, 0 to remove and 11 not upgraded.\n",
            "Need to get 3,439 kB of archives.\n",
            "After this operation, 9,832 kB of additional disk space will be used.\n",
            "Get:1 http://archive.ubuntu.com/ubuntu bionic/main amd64 libsuitesparseconfig5 amd64 1:5.1.2-2 [9,044 B]\n",
            "Get:2 http://archive.ubuntu.com/ubuntu bionic/main amd64 libamd2 amd64 1:5.1.2-2 [19.5 kB]\n",
            "Get:3 http://archive.ubuntu.com/ubuntu bionic/main amd64 libcolamd2 amd64 1:5.1.2-2 [16.2 kB]\n",
            "Get:4 http://archive.ubuntu.com/ubuntu bionic/universe amd64 libglpk40 amd64 4.65-1 [378 kB]\n",
            "Get:5 http://archive.ubuntu.com/ubuntu bionic/universe amd64 glpk-utils amd64 4.65-1 [269 kB]\n",
            "Get:6 http://archive.ubuntu.com/ubuntu bionic/universe amd64 coinor-libcoinutils3v5 amd64 2.10.14+repack1-1 [472 kB]\n",
            "Get:7 http://archive.ubuntu.com/ubuntu bionic/universe amd64 coinor-libosi1v5 amd64 0.107.9+repack1-1 [270 kB]\n",
            "Get:8 http://archive.ubuntu.com/ubuntu bionic/universe amd64 coinor-libclp1 amd64 1.16.11+repack1-1 [863 kB]\n",
            "Get:9 http://archive.ubuntu.com/ubuntu bionic/universe amd64 coinor-libcgl1 amd64 0.59.10+repack1-1 [433 kB]\n",
            "Get:10 http://archive.ubuntu.com/ubuntu bionic/universe amd64 coinor-libcbc3 amd64 2.9.9+repack1-1 [687 kB]\n",
            "Get:11 http://archive.ubuntu.com/ubuntu bionic/universe amd64 coinor-cbc amd64 2.9.9+repack1-1 [11.2 kB]\n",
            "Get:12 http://archive.ubuntu.com/ubuntu bionic/universe amd64 coinor-clp amd64 1.16.11+repack1-1 [9,646 B]\n",
            "Fetched 3,439 kB in 2s (1,466 kB/s)\n",
            "debconf: unable to initialize frontend: Dialog\n",
            "debconf: (No usable dialog-like program is installed, so the dialog based frontend cannot be used. at /usr/share/perl5/Debconf/FrontEnd/Dialog.pm line 76, <> line 12.)\n",
            "debconf: falling back to frontend: Readline\n",
            "debconf: unable to initialize frontend: Readline\n",
            "debconf: (This frontend requires a controlling tty.)\n",
            "debconf: falling back to frontend: Teletype\n",
            "dpkg-preconfigure: unable to re-open stdin: \n",
            "Selecting previously unselected package libsuitesparseconfig5:amd64.\n",
            "(Reading database ... 144628 files and directories currently installed.)\n",
            "Preparing to unpack .../00-libsuitesparseconfig5_1%3a5.1.2-2_amd64.deb ...\n",
            "Unpacking libsuitesparseconfig5:amd64 (1:5.1.2-2) ...\n",
            "Selecting previously unselected package libamd2:amd64.\n",
            "Preparing to unpack .../01-libamd2_1%3a5.1.2-2_amd64.deb ...\n",
            "Unpacking libamd2:amd64 (1:5.1.2-2) ...\n",
            "Selecting previously unselected package libcolamd2:amd64.\n",
            "Preparing to unpack .../02-libcolamd2_1%3a5.1.2-2_amd64.deb ...\n",
            "Unpacking libcolamd2:amd64 (1:5.1.2-2) ...\n",
            "Selecting previously unselected package libglpk40:amd64.\n",
            "Preparing to unpack .../03-libglpk40_4.65-1_amd64.deb ...\n",
            "Unpacking libglpk40:amd64 (4.65-1) ...\n",
            "Selecting previously unselected package glpk-utils.\n",
            "Preparing to unpack .../04-glpk-utils_4.65-1_amd64.deb ...\n",
            "Unpacking glpk-utils (4.65-1) ...\n",
            "Selecting previously unselected package coinor-libcoinutils3v5.\n",
            "Preparing to unpack .../05-coinor-libcoinutils3v5_2.10.14+repack1-1_amd64.deb ...\n",
            "Unpacking coinor-libcoinutils3v5 (2.10.14+repack1-1) ...\n",
            "Selecting previously unselected package coinor-libosi1v5.\n",
            "Preparing to unpack .../06-coinor-libosi1v5_0.107.9+repack1-1_amd64.deb ...\n",
            "Unpacking coinor-libosi1v5 (0.107.9+repack1-1) ...\n",
            "Selecting previously unselected package coinor-libclp1.\n",
            "Preparing to unpack .../07-coinor-libclp1_1.16.11+repack1-1_amd64.deb ...\n",
            "Unpacking coinor-libclp1 (1.16.11+repack1-1) ...\n",
            "Selecting previously unselected package coinor-libcgl1.\n",
            "Preparing to unpack .../08-coinor-libcgl1_0.59.10+repack1-1_amd64.deb ...\n",
            "Unpacking coinor-libcgl1 (0.59.10+repack1-1) ...\n",
            "Selecting previously unselected package coinor-libcbc3.\n",
            "Preparing to unpack .../09-coinor-libcbc3_2.9.9+repack1-1_amd64.deb ...\n",
            "Unpacking coinor-libcbc3 (2.9.9+repack1-1) ...\n",
            "Selecting previously unselected package coinor-cbc.\n",
            "Preparing to unpack .../10-coinor-cbc_2.9.9+repack1-1_amd64.deb ...\n",
            "Unpacking coinor-cbc (2.9.9+repack1-1) ...\n",
            "Selecting previously unselected package coinor-clp.\n",
            "Preparing to unpack .../11-coinor-clp_1.16.11+repack1-1_amd64.deb ...\n",
            "Unpacking coinor-clp (1.16.11+repack1-1) ...\n",
            "Setting up libsuitesparseconfig5:amd64 (1:5.1.2-2) ...\n",
            "Setting up libcolamd2:amd64 (1:5.1.2-2) ...\n",
            "Setting up coinor-libcoinutils3v5 (2.10.14+repack1-1) ...\n",
            "Setting up coinor-libosi1v5 (0.107.9+repack1-1) ...\n",
            "Setting up coinor-libclp1 (1.16.11+repack1-1) ...\n",
            "Setting up libamd2:amd64 (1:5.1.2-2) ...\n",
            "Setting up coinor-libcgl1 (0.59.10+repack1-1) ...\n",
            "Setting up libglpk40:amd64 (4.65-1) ...\n",
            "Setting up coinor-clp (1.16.11+repack1-1) ...\n",
            "Setting up coinor-libcbc3 (2.9.9+repack1-1) ...\n",
            "Setting up glpk-utils (4.65-1) ...\n",
            "Setting up coinor-cbc (2.9.9+repack1-1) ...\n",
            "Processing triggers for man-db (2.8.3-2ubuntu0.1) ...\n",
            "Processing triggers for libc-bin (2.27-3ubuntu1.2) ...\n",
            "/sbin/ldconfig.real: /usr/local/lib/python3.6/dist-packages/ideep4py/lib/libmkldnn.so.0 is not a symbolic link\n",
            "\n"
          ],
          "name": "stdout"
        }
      ]
    },
    {
      "cell_type": "code",
      "metadata": {
        "id": "_DrgwJefDlsn",
        "colab": {
          "base_uri": "https://localhost:8080/"
        },
        "outputId": "afcb1ba5-c74c-4a99-b923-7013721d64e7"
      },
      "source": [
        "### kod sprawdza czy instalacja się udała\n",
        "import pulp\n",
        "\n",
        "print(pulp.__version__)"
      ],
      "execution_count": null,
      "outputs": [
        {
          "output_type": "stream",
          "text": [
            "2.3.1\n"
          ],
          "name": "stdout"
        }
      ]
    },
    {
      "cell_type": "code",
      "metadata": {
        "id": "Ej8sHJCJDpfU",
        "colab": {
          "base_uri": "https://localhost:8080/"
        },
        "outputId": "df727313-c1c3-48d8-98d6-5b4a29ee2a36"
      },
      "source": [
        "pulp.pulpTestAll()"
      ],
      "execution_count": null,
      "outputs": [
        {
          "output_type": "stream",
          "text": [
            "..............."
          ],
          "name": "stderr"
        },
        {
          "output_type": "stream",
          "text": [
            "Solver <class 'pulp.apis.coin_api.PULP_CBC_CMD'> available\n",
            "Solver <class 'pulp.apis.cplex_api.CPLEX_DLL'> unavailable\n",
            "Solver <class 'pulp.apis.cplex_api.CPLEX_CMD'> unavailable\n",
            "Solver <class 'pulp.apis.cplex_api.CPLEX_PY'> unavailable\n",
            "Solver <class 'pulp.apis.coin_api.COIN_CMD'> available\n",
            "Solver <class 'pulp.apis.coin_api.COINMP_DLL'> unavailable\n",
            "Solver <class 'pulp.apis.glpk_api.GLPK_CMD'> available\n",
            "Solver <class 'pulp.apis.xpress_api.XPRESS'> unavailable\n",
            "Solver <class 'pulp.apis.gurobi_api.GUROBI'> unavailable\n",
            "Solver <class 'pulp.apis.gurobi_api.GUROBI_CMD'> unavailable\n",
            "Solver <class 'pulp.apis.glpk_api.PYGLPK'> unavailable\n",
            "Solver <class 'pulp.apis.coin_api.YAPOSIB'> unavailable\n",
            "Solver <class 'pulp.apis.choco_api.PULP_CHOCO_CMD'> available\n",
            "Solver <class 'pulp.apis.choco_api.CHOCO_CMD'> unavailable\n",
            "Solver <class 'pulp.apis.mipcl_api.MIPCL_CMD'> unavailable\n",
            "Solver <class 'pulp.apis.mosek_api.MOSEK'> unavailable\n",
            "Solver <class 'pulp.apis.scip_api.SCIP_CMD'> unavailable\n",
            "\t Testing invalid status\n",
            "\t Testing continuous LP solution - export dict\n",
            "\t Testing MIP solution\n",
            "\t Testing maximize continuous LP solution\n",
            "\t Testing continuous LP solution - export JSON\n",
            "\t Testing continuous LP solution - export solver dict\n",
            "\t Testing continuous LP solution - export solver JSON\n",
            "\t Testing makeDict general behavior\n",
            "\t Testing makeDict default value behavior\n",
            "\t Testing the availability of the function pulpTestAll\n",
            "\t Testing zero subtraction\n",
            "\t Testing inconsistent lp solution\n",
            "\t Testing continuous LP solution\n",
            "\t Testing maximize continuous LP solution\n",
            "\t Testing unbounded continuous LP solution\n"
          ],
          "name": "stdout"
        },
        {
          "output_type": "stream",
          "text": [
            ".............."
          ],
          "name": "stderr"
        },
        {
          "output_type": "stream",
          "text": [
            "\t Testing Long Names\n",
            "\t Testing repeated Names\n",
            "\t Testing zero constraint\n",
            "\t Testing zero objective\n",
            "\t Testing LpVariable (not LpAffineExpression) objective\n",
            "\t Testing Long lines in LP\n",
            "\t Testing LpAffineExpression divide\n",
            "\t Testing MIP solution\n",
            "\t Testing MIP solution with floats in objective\n",
            "\t Testing MIP solution\n",
            "\t Testing MIP solution\n",
            "\t Testing MIP relaxation\n",
            "\t Testing feasibility problem (no objective)\n",
            "\t Testing an infeasible problem\n"
          ],
          "name": "stdout"
        },
        {
          "output_type": "stream",
          "text": [
            "..............."
          ],
          "name": "stderr"
        },
        {
          "output_type": "stream",
          "text": [
            "\t Testing an integer infeasible problem\n",
            "\t Testing another integer infeasible problem\n",
            "\t Testing column based modelling\n",
            "\t Testing dual variables and slacks reporting\n",
            "\t Testing fractional constraints\n",
            "\t Testing elastic constraints (no change)\n",
            "\t Testing elastic constraints (freebound)\n",
            "\t Testing elastic constraints (penalty unchanged)\n",
            "\t Testing elastic constraints (penalty unbounded)\n",
            "\t Testing invalid status\n",
            "\t Testing continuous LP solution - export dict\n"
          ],
          "name": "stdout"
        },
        {
          "output_type": "stream",
          "text": [
            ".............."
          ],
          "name": "stderr"
        },
        {
          "output_type": "stream",
          "text": [
            "\t Testing MIP solution\n",
            "\t Testing maximize continuous LP solution\n",
            "\t Testing continuous LP solution - export JSON\n",
            "\t Testing continuous LP solution - export solver dict\n",
            "\t Testing continuous LP solution - export solver JSON\n",
            "\t Testing makeDict general behavior\n",
            "\t Testing makeDict default value behavior\n",
            "\t Testing the availability of the function pulpTestAll\n",
            "\t Testing zero subtraction\n",
            "\t Testing inconsistent lp solution\n",
            "\t Testing continuous LP solution\n",
            "\t Testing maximize continuous LP solution\n",
            "\t Testing unbounded continuous LP solution\n"
          ],
          "name": "stdout"
        },
        {
          "output_type": "stream",
          "text": [
            "..........."
          ],
          "name": "stderr"
        },
        {
          "output_type": "stream",
          "text": [
            "\t Testing Long Names\n",
            "\t Testing repeated Names\n",
            "\t Testing zero constraint\n",
            "\t Testing zero objective\n",
            "\t Testing LpVariable (not LpAffineExpression) objective\n",
            "\t Testing Long lines in LP\n",
            "\t Testing LpAffineExpression divide\n",
            "\t Testing MIP solution\n",
            "\t Testing MIP solution with floats in objective\n",
            "\t Testing MIP solution\n",
            "\t Testing MIP solution\n"
          ],
          "name": "stdout"
        },
        {
          "output_type": "stream",
          "text": [
            "............."
          ],
          "name": "stderr"
        },
        {
          "output_type": "stream",
          "text": [
            "\t Testing MIP relaxation\n",
            "\t Testing feasibility problem (no objective)\n",
            "\t Testing an infeasible problem\n",
            "\t Testing an integer infeasible problem\n",
            "\t Testing another integer infeasible problem\n",
            "\t Testing column based modelling\n",
            "\t Testing fractional constraints\n",
            "\t Testing elastic constraints (no change)\n",
            "\t Testing elastic constraints (freebound)\n"
          ],
          "name": "stdout"
        },
        {
          "output_type": "stream",
          "text": [
            ".................."
          ],
          "name": "stderr"
        },
        {
          "output_type": "stream",
          "text": [
            "\t Testing elastic constraints (penalty unchanged)\n",
            "\t Testing elastic constraints (penalty unbounded)\n",
            "\t Testing invalid status\n",
            "\t Testing continuous LP solution - export dict\n",
            "\t Testing MIP solution\n",
            "\t Testing maximize continuous LP solution\n",
            "\t Testing continuous LP solution - export JSON\n",
            "\t Testing continuous LP solution - export solver dict\n",
            "\t Testing continuous LP solution - export solver JSON\n",
            "\t Testing makeDict general behavior\n",
            "\t Testing makeDict default value behavior\n",
            "\t Testing the availability of the function pulpTestAll\n",
            "\t Testing zero subtraction\n",
            "\t Testing inconsistent lp solution\n",
            "\t Testing continuous LP solution\n",
            "\t Testing maximize continuous LP solution\n"
          ],
          "name": "stdout"
        },
        {
          "output_type": "stream",
          "text": [
            "................."
          ],
          "name": "stderr"
        },
        {
          "output_type": "stream",
          "text": [
            "\t Testing unbounded continuous LP solution\n",
            "\t Testing Long Names\n",
            "\t Testing repeated Names\n",
            "\t Testing zero constraint\n",
            "\t Testing zero objective\n",
            "\t Testing LpVariable (not LpAffineExpression) objective\n",
            "\t Testing LpAffineExpression divide\n",
            "\t Testing MIP solution\n",
            "\t Testing MIP solution with floats in objective\n",
            "\t Testing MIP solution\n",
            "\t Testing MIP solution\n",
            "\t Testing MIP relaxation\n",
            "\t Testing feasibility problem (no objective)\n",
            "\t Testing an infeasible problem\n",
            "\t Testing an integer infeasible problem\n",
            "\t Testing another integer infeasible problem\n"
          ],
          "name": "stdout"
        },
        {
          "output_type": "stream",
          "text": [
            "............."
          ],
          "name": "stderr"
        },
        {
          "output_type": "stream",
          "text": [
            "\t Testing column based modelling\n",
            "\t Testing fractional constraints\n",
            "\t Testing elastic constraints (no change)\n",
            "\t Testing elastic constraints (freebound)\n",
            "\t Testing elastic constraints (penalty unchanged)\n",
            "\t Testing elastic constraints (penalty unbounded)\n",
            "\t Testing invalid status\n",
            "\t Testing continuous LP solution - export dict\n"
          ],
          "name": "stdout"
        },
        {
          "output_type": "stream",
          "text": [
            "."
          ],
          "name": "stderr"
        },
        {
          "output_type": "stream",
          "text": [
            "\t Testing MIP solution\n"
          ],
          "name": "stdout"
        },
        {
          "output_type": "stream",
          "text": [
            "."
          ],
          "name": "stderr"
        },
        {
          "output_type": "stream",
          "text": [
            "\t Testing maximize continuous LP solution\n"
          ],
          "name": "stdout"
        },
        {
          "output_type": "stream",
          "text": [
            "."
          ],
          "name": "stderr"
        },
        {
          "output_type": "stream",
          "text": [
            "\t Testing continuous LP solution - export JSON\n"
          ],
          "name": "stdout"
        },
        {
          "output_type": "stream",
          "text": [
            "."
          ],
          "name": "stderr"
        },
        {
          "output_type": "stream",
          "text": [
            "\t Testing continuous LP solution - export solver dict\n"
          ],
          "name": "stdout"
        },
        {
          "output_type": "stream",
          "text": [
            "."
          ],
          "name": "stderr"
        },
        {
          "output_type": "stream",
          "text": [
            "\t Testing continuous LP solution - export solver JSON\n"
          ],
          "name": "stdout"
        },
        {
          "output_type": "stream",
          "text": [
            "......."
          ],
          "name": "stderr"
        },
        {
          "output_type": "stream",
          "text": [
            "\t Testing makeDict general behavior\n",
            "\t Testing makeDict default value behavior\n",
            "\t Testing the availability of the function pulpTestAll\n",
            "\t Testing zero subtraction\n",
            "\t Testing inconsistent lp solution\n",
            "\t Testing continuous LP solution\n"
          ],
          "name": "stdout"
        },
        {
          "output_type": "stream",
          "text": [
            "."
          ],
          "name": "stderr"
        },
        {
          "output_type": "stream",
          "text": [
            "\t Testing maximize continuous LP solution\n"
          ],
          "name": "stdout"
        },
        {
          "output_type": "stream",
          "text": [
            ".."
          ],
          "name": "stderr"
        },
        {
          "output_type": "stream",
          "text": [
            "\t Testing unbounded continuous LP solution\n",
            "\t Testing Long Names\n"
          ],
          "name": "stdout"
        },
        {
          "output_type": "stream",
          "text": [
            ".."
          ],
          "name": "stderr"
        },
        {
          "output_type": "stream",
          "text": [
            "\t Testing repeated Names\n",
            "\t Testing zero constraint\n"
          ],
          "name": "stdout"
        },
        {
          "output_type": "stream",
          "text": [
            "."
          ],
          "name": "stderr"
        },
        {
          "output_type": "stream",
          "text": [
            "\t Testing zero objective\n"
          ],
          "name": "stdout"
        },
        {
          "output_type": "stream",
          "text": [
            "."
          ],
          "name": "stderr"
        },
        {
          "output_type": "stream",
          "text": [
            "\t Testing LpVariable (not LpAffineExpression) objective\n"
          ],
          "name": "stdout"
        },
        {
          "output_type": "stream",
          "text": [
            ".."
          ],
          "name": "stderr"
        },
        {
          "output_type": "stream",
          "text": [
            "\t Testing LpAffineExpression divide\n"
          ],
          "name": "stdout"
        },
        {
          "output_type": "stream",
          "text": [
            "."
          ],
          "name": "stderr"
        },
        {
          "output_type": "stream",
          "text": [
            "\t Testing MIP solution\n"
          ],
          "name": "stdout"
        },
        {
          "output_type": "stream",
          "text": [
            "."
          ],
          "name": "stderr"
        },
        {
          "output_type": "stream",
          "text": [
            "\t Testing MIP solution with floats in objective\n"
          ],
          "name": "stdout"
        },
        {
          "output_type": "stream",
          "text": [
            "."
          ],
          "name": "stderr"
        },
        {
          "output_type": "stream",
          "text": [
            "\t Testing MIP solution\n"
          ],
          "name": "stdout"
        },
        {
          "output_type": "stream",
          "text": [
            "."
          ],
          "name": "stderr"
        },
        {
          "output_type": "stream",
          "text": [
            "\t Testing MIP solution\n"
          ],
          "name": "stdout"
        },
        {
          "output_type": "stream",
          "text": [
            "./usr/local/lib/python3.6/dist-packages/pulp/apis/choco_api.py:83: UserWarning: CHOCO_CMD cannot solve the relaxation of a problem\n",
            "  warnings.warn(\"CHOCO_CMD cannot solve the relaxation of a problem\")\n"
          ],
          "name": "stderr"
        },
        {
          "output_type": "stream",
          "text": [
            "\t Testing MIP relaxation\n"
          ],
          "name": "stdout"
        },
        {
          "output_type": "stream",
          "text": [
            "."
          ],
          "name": "stderr"
        },
        {
          "output_type": "stream",
          "text": [
            "\t Testing feasibility problem (no objective)\n"
          ],
          "name": "stdout"
        },
        {
          "output_type": "stream",
          "text": [
            "."
          ],
          "name": "stderr"
        },
        {
          "output_type": "stream",
          "text": [
            "\t Testing an infeasible problem\n"
          ],
          "name": "stdout"
        },
        {
          "output_type": "stream",
          "text": [
            "."
          ],
          "name": "stderr"
        },
        {
          "output_type": "stream",
          "text": [
            "\t Testing an integer infeasible problem\n"
          ],
          "name": "stdout"
        },
        {
          "output_type": "stream",
          "text": [
            "."
          ],
          "name": "stderr"
        },
        {
          "output_type": "stream",
          "text": [
            "\t Testing another integer infeasible problem\n"
          ],
          "name": "stdout"
        },
        {
          "output_type": "stream",
          "text": [
            "."
          ],
          "name": "stderr"
        },
        {
          "output_type": "stream",
          "text": [
            "\t Testing column based modelling\n"
          ],
          "name": "stdout"
        },
        {
          "output_type": "stream",
          "text": [
            "....."
          ],
          "name": "stderr"
        },
        {
          "output_type": "stream",
          "text": [
            "\t Testing fractional constraints\n"
          ],
          "name": "stdout"
        },
        {
          "output_type": "stream",
          "text": [
            "."
          ],
          "name": "stderr"
        },
        {
          "output_type": "stream",
          "text": [
            "\t Testing elastic constraints (no change)\n"
          ],
          "name": "stdout"
        },
        {
          "output_type": "stream",
          "text": [
            "."
          ],
          "name": "stderr"
        },
        {
          "output_type": "stream",
          "text": [
            "\t Testing elastic constraints (freebound)\n"
          ],
          "name": "stdout"
        },
        {
          "output_type": "stream",
          "text": [
            "."
          ],
          "name": "stderr"
        },
        {
          "output_type": "stream",
          "text": [
            "\t Testing elastic constraints (penalty unchanged)\n"
          ],
          "name": "stdout"
        },
        {
          "output_type": "stream",
          "text": [
            ".............."
          ],
          "name": "stderr"
        },
        {
          "output_type": "stream",
          "text": [
            "\t Testing elastic constraints (penalty unbounded)\n"
          ],
          "name": "stdout"
        },
        {
          "output_type": "stream",
          "text": [
            ".........................."
          ],
          "name": "stderr"
        },
        {
          "output_type": "stream",
          "text": [
            "{'a': 53.0, 'b': 45.3, 'c': 459.2}\n"
          ],
          "name": "stdout"
        },
        {
          "output_type": "stream",
          "text": [
            "......\n",
            "----------------------------------------------------------------------\n",
            "Ran 215 tests in 38.709s\n",
            "\n",
            "OK\n"
          ],
          "name": "stderr"
        }
      ]
    },
    {
      "cell_type": "markdown",
      "metadata": {
        "id": "vViE1YhVFcT-"
      },
      "source": [
        ""
      ]
    },
    {
      "cell_type": "markdown",
      "metadata": {
        "id": "TbKTdcz1FdIF"
      },
      "source": [
        "![Zrzut ekranu 2020-11-04 124642.png](data:image/png;base64,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)"
      ]
    },
    {
      "cell_type": "markdown",
      "metadata": {
        "id": "WEGqjHBAnnKV"
      },
      "source": [
        "**Optymalizacja produkcji okien**\r\n",
        "\r\n",
        "Opis problemu:\r\n",
        "\r\n",
        "Produkowane są dwa typy okien: drewniane i aluminiowe.Na jednej partii okien aluminiowych producent zarabia 3000$ , a na partii okien drewnianych 5000 dolarów. Okna produkują 3 fabryki. Dane z jaką prędkością i czasem wykonania danego rodzaju okna są podane w tabeli powyżej. \r\n",
        "\r\n",
        "Celem optymalizacji produkcji jest osiagnięcie jak największego zysku z produkcji okien.\r\n",
        "\r\n",
        "Zmienne decyzyjne:\r\n",
        "\r\n",
        "x1 - ilość partii okien aluminiowych\r\n",
        "\r\n",
        "x2- ilość partii okien drewnianych\r\n",
        "\r\n",
        "Funkcja maksymalizująca zyski:\r\n",
        "\r\n",
        "max(zysk_aluminiowe*x1 + zysk_drewniane*x2)\r\n",
        "\r\n",
        "Ograniczenia: \r\n",
        "\r\n",
        "Maksymalna czasowa dostępność poszczególnych fabryk"
      ]
    },
    {
      "cell_type": "code",
      "metadata": {
        "id": "TL8zv0CWEkk7",
        "colab": {
          "base_uri": "https://localhost:8080/",
          "height": 554,
          "referenced_widgets": [
            "6111c0e880e444c28b1315e27143cb9b",
            "7e1499ae9563401bb2e35ab5969b6645",
            "f9ee20c25b124908a877e256995ee413",
            "7206c9eee3624a569f7b5b59151039f9",
            "113864f0169741e8abe630720b891ed3",
            "9e47722e9b254e0fa35c5f07e7d1b47f",
            "89a386ace6884c83bc33e6137197690e",
            "c456cb7b36a648b4a0ae0ba4a2510f85",
            "b7654b94cd294e33b2506159b8cc7284",
            "6144961781a84e4f9eac5f09d54b514b",
            "a5ddeb9466b04460a2d90b25cbeadf0b",
            "4bbc9af774f24021a30feeac0261658d",
            "33c062c19ba64e3abdff5499809f18b0",
            "0234ecca5ac94217a7d51cfd47c9f340",
            "6ca001e2b2654fb084e6ae04c2d111db",
            "2061f266fc804e97829be154dfacabd6",
            "cd6150c718484d22a08313f3307b14a1",
            "8db85a9a55ce472498cb599106f0e353",
            "a33db0cf0e824ad597db496080d43f29",
            "4eae656e5a9749aea8fa06d6a276be34",
            "cec7d20690f4412687d99d6bba8ef75c",
            "44178f30bc6a4a9aa322ce84cf3bb1c9",
            "f1f38d35b8dd4612a2d64941354f6ce7",
            "f0acc6be972749798cb2f26a81f8758a",
            "cd883cb533c14f969bb1a5c93b3f4601",
            "b66b45a838b747348d9b416841da23c8",
            "67e1de95bec347bd80cf420bbd54472f"
          ]
        },
        "outputId": "056bddab-be95-4656-98a1-ae7f2bff6afc"
      },
      "source": [
        "from pulp import *\n",
        "from __future__ import print_function\n",
        "from ipywidgets import interact, interactive, fixed, interact_manual, Layout, FloatSlider, IntSlider\n",
        "import ipywidgets as widgets\n",
        "import pandas as pd\n",
        "\n",
        "\n",
        "zysk_aluminiowe_slider = FloatSlider(min=500,max=10000,value=3000,description=\"Zysk z okien aluminiowych\",style=style,layout=layout,step=100)\n",
        "zysk_drewniane_slider = FloatSlider(min=500,max=10000,value=5000,description=\"Zysk z okien drewnianych\",style=style,layout=layout,step=100)\n",
        "godz_aluminiowe_F1_slider = IntSlider(min=0,max=10,value=1,description=\"Godz. prod. okien alu. w F1\",style=style,layout=layout,step=1)\n",
        "godz_aluminiowe_F2_slider = IntSlider(min=0,max=10,value=0,description=\"Godz. prod. okien alu. w F2\",style=style,layout=layout,step=1)\n",
        "godz_aluminiowe_F3_slider = IntSlider(min=0,max=10,value=3,description=\"Godz. prod. okien alu. w F3\",style=style,layout=layout,step=1)\n",
        "godz_drewniane_F1_slider = IntSlider(min=0,max=10,value=0,description=\"Godz. prod. okien drew. w F1\",style=style,layout=layout,step=1)\n",
        "godz_drewniane_F2_slider = IntSlider(min=0,max=10,value=2,description=\"Godz. prod. okien drew. w F2\",style=style,layout=layout,step=1)\n",
        "godz_drewniane_F3_slider = IntSlider(min=0,max=10,value=2,description=\"Godz. prod. okien drew. w F3\",style=style,layout=layout,step=1)\n",
        "max_godz_F1_slider = IntSlider(min=0,max=50,value=4,description=\"Maksymalna ilość godzin w F1\",style=style,layout=layout,step=1)\n",
        "max_godz_F2_slider = IntSlider(min=0,max=50,value=12,description=\"Maksymalna ilość godzin w F2\",style=style,layout=layout,step=1)\n",
        "max_godz_F3_slider = IntSlider(min=0,max=50,value=18,description=\"Maksymalna ilość godzin w F3\",style=style,layout=layout,step=1)\n",
        "\n",
        "def produkcja_okien(\n",
        "    zysk_aluminiowe = 3000,\n",
        "    zysk_drewniane = 5000,\n",
        "    godz_aluminium_F1 = 1,\n",
        "    godz_aluminium_F2 = 0,\n",
        "    godz_aluminium_F3 = 3,\n",
        "    godz_drewniane_F1 = 0,\n",
        "    godz_drewniane_F2 = 2,\n",
        "    godz_drewniane_F3 = 2,\n",
        "    max_godz_F1 = 4,\n",
        "    max_godz_F2 = 12,\n",
        "    max_godz_F3 = 18\n",
        "    ):\n",
        "  \n",
        "    \n",
        "    prob = LpProblem(\"Maksymalizacja_zysku_z_okien\",LpMaximize)\n",
        "\n",
        "    x1=LpVariable(\"Ilość_Aluminiowych\",0,None,LpInteger)\n",
        "    x2=LpVariable(\"Ilość_Drewnianych\",0,None,LpInteger)\n",
        "\n",
        "    prob += zysk_aluminiowe*x1 + zysk_drewniane*x2   #zysk\n",
        "\n",
        "    prob += godz_aluminium_F1*x1 + godz_drewniane_F1*x2 <= max_godz_F1, \"Maks godziny w tyg w F1\"\n",
        "    prob += godz_aluminium_F2*x1 + godz_drewniane_F2*x2 <= max_godz_F2, \"Maks godziny w tyg w F2\"\n",
        "    prob += godz_aluminium_F3*x1 + godz_drewniane_F3*x2 <= max_godz_F3, \"Maks godziny w tyg w F3\"\n",
        "\n",
        "    if godz_aluminium_F1 == 0 and godz_aluminium_F2 == 0 and godz_aluminium_F3 == 0: prob += x1 == 0\n",
        "    if godz_drewniane_F1 == 0 and godz_drewniane_F2 == 0 and godz_drewniane_F3 == 0: prob += x2 == 0\n",
        "\n",
        "    prob.solve()\n",
        "    varsdict = {}\n",
        "\n",
        "    for v in prob.variables():\n",
        "        varsdict[v.name] = str(v.varValue)\n",
        "\n",
        "    #!cat \"okna.lp\"\n",
        "\n",
        "    print()\n",
        "    print(\"Status:\", LpStatus[prob.status])\n",
        "    print(\"Końcowy zysk {}$, okna: {}\".format(value(prob.objective),varsdict))\n",
        "    print()\n",
        "    shadows = [{'NAME          ':name, '    shadow price': c.pi, \"    slack\": c.slack} for name, c in prob.constraints.items()]\n",
        "    print(\"*\"*20+\"Shadow Prices\"+\"*\"*20)\n",
        "    print(pd.DataFrame(shadows))\n",
        "    print(\"*\"*30)\n",
        "\n",
        "interact(\n",
        "    produkcja_okien,zysk_aluminiowe = zysk_aluminiowe_slider,\n",
        "    zysk_drewniane = zysk_drewniane_slider,\n",
        "    godz_aluminium_F1 = godz_aluminiowe_F1_slider,\n",
        "    godz_aluminium_F2 = godz_aluminiowe_F2_slider,\n",
        "    godz_aluminium_F3 = godz_aluminiowe_F3_slider,\n",
        "    godz_drewniane_F1 = godz_drewniane_F1_slider,\n",
        "    godz_drewniane_F2 = godz_drewniane_F2_slider,\n",
        "    godz_drewniane_F3 = godz_drewniane_F3_slider,\n",
        "    max_godz_F1 = max_godz_F1_slider,\n",
        "    max_godz_F2 = max_godz_F2_slider,\n",
        "    max_godz_F3 = max_godz_F3_slider\n",
        ")"
      ],
      "execution_count": null,
      "outputs": [
        {
          "output_type": "display_data",
          "data": {
            "application/vnd.jupyter.widget-view+json": {
              "model_id": "6111c0e880e444c28b1315e27143cb9b",
              "version_minor": 0,
              "version_major": 2
            },
            "text/plain": [
              "interactive(children=(FloatSlider(value=3000.0, description='Zysk z okien aluminiowych', layout=Layout(grid_ga…"
            ]
          },
          "metadata": {
            "tags": []
          }
        },
        {
          "output_type": "execute_result",
          "data": {
            "text/plain": [
              "<function __main__.produkcja_okien>"
            ]
          },
          "metadata": {
            "tags": []
          },
          "execution_count": 45
        }
      ]
    },
    {
      "cell_type": "markdown",
      "metadata": {
        "id": "jmqDave2nlAE"
      },
      "source": [
        ""
      ]
    },
    {
      "cell_type": "code",
      "metadata": {
        "id": "PnR0iIbaESXN"
      },
      "source": [
        ""
      ],
      "execution_count": null,
      "outputs": []
    }
  ]
}